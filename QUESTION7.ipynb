{
 "cells": [
  {
   "cell_type": "code",
   "execution_count": 2,
   "id": "dede34c2",
   "metadata": {},
   "outputs": [],
   "source": [
    "import requests\n",
    "from urllib.parse import urljoin\n",
    "from bs4 import BeautifulSoup\n",
    "\n",
    "def webdir(URL: str, depth: int, indent: int, total_allowed_links = 5):\n",
    "    # This function takes URL, depth and indent as parameters\n",
    "    # total_allowed_links is an additional variable that sets upper limit for links to be printed (for the sake of demonstration)\n",
    "\n",
    "    if depth == 0:\n",
    "        # Just print the current URL\n",
    "        curr_url = ' '*indent + URL\n",
    "        print(curr_url)\n",
    "    else:\n",
    "        curr_url = ' '*indent + URL\n",
    "        print(curr_url)\n",
    "        try:\n",
    "            # Get the response from current URL\n",
    "            response = requests.get(URL)\n",
    "            if response.status_code != 200:\n",
    "                return\n",
    "            children_links = extract_links(response.text)\n",
    "            for child_link in children_links:\n",
    "                if total_allowed_links <= 0:\n",
    "                    break\n",
    "                # Make absolute link\n",
    "                absolute_url = urljoin(URL, child_link)\n",
    "                total_allowed_links -= 1\n",
    "                webdir(absolute_url, depth - 1, indent + 4)\n",
    "        except:\n",
    "            print(\"Some exception occurred\")\n",
    "\n",
    "\n",
    "def extract_links(html_content):\n",
    "    soup = BeautifulSoup(html_content, 'html.parser')\n",
    "    links = [a['href'] for a in soup.find_all('a', href=True)]\n",
    "    return links\n",
    "\n",
    "\n",
    "# URL = 'https://www.apple.com/in/mac/'\n",
    "# webdir(URL, 2 , 0)"
   ]
  },
  {
   "cell_type": "code",
   "execution_count": null,
   "id": "0697f01c",
   "metadata": {},
   "outputs": [],
   "source": []
  }
 ],
 "metadata": {
  "kernelspec": {
   "display_name": "Python 3 (ipykernel)",
   "language": "python",
   "name": "python3"
  },
  "language_info": {
   "codemirror_mode": {
    "name": "ipython",
    "version": 3
   },
   "file_extension": ".py",
   "mimetype": "text/x-python",
   "name": "python",
   "nbconvert_exporter": "python",
   "pygments_lexer": "ipython3",
   "version": "3.10.9"
  }
 },
 "nbformat": 4,
 "nbformat_minor": 5
}
